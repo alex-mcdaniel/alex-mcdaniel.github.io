{
 "cells": [
  {
   "cell_type": "markdown",
   "id": "9bc42dd7-3dc5-4144-a46b-2b0cdd388051",
   "metadata": {},
   "source": [
    "# Supply Chain Analysis and Optimization"
   ]
  },
  {
   "cell_type": "markdown",
   "id": "32ccc982-3830-495a-900f-5ce2f2b614eb",
   "metadata": {},
   "source": [
    "In this notebook we will explore a dataset of an outbound logistics network and do a basic supply chain optimization. The dataset comes from [Dzalbs & Kalganova 2020](https://www.sciencedirect.com/science/article/pii/S0360835220303442?via%3Dihub) and represents real-world demand data from a global microchip producer. Specifically, we will use the data to calculate the supply chain cost for the given warehouse and transport options of the data. We will then create a simple linear programming cost optimization problem in which we optimize the assignment of orders to warehouses based on warehouse costs and capacities. We’ll do this with SciPy as well as with the PuLP linear programming package and compare results.\n",
    "\n",
    "I will not do much exploratory data analysis here since we have a well documented dataset from the paper and have a narrowly defined problem scope. However, some additional visualization of the data can be found on the [public Tableau page](https://public.tableau.com/app/profile/alex.mcdaniel/viz/SupplyChainLogistics_17028331172440/Dashboard1)."
   ]
  },
  {
   "cell_type": "markdown",
   "id": "cad0492a-17b7-4c58-81fd-03f8007c9079",
   "metadata": {},
   "source": [
    "## Import packages"
   ]
  },
  {
   "cell_type": "code",
   "execution_count": 1,
   "id": "5fe61622-f626-49a2-898b-f4a027b9c287",
   "metadata": {},
   "outputs": [],
   "source": [
    "import pandas as pd # for reading and maniuplating dataframes\n",
    "import numpy as np #  general math calulations\n",
    "import matplotlib.pyplot as plt # for visualization\n",
    "import seaborn as sns # visualizations, some analysis\n",
    "\n",
    "# scipy.optimize.milp requires scipy >=1.9.0\n",
    "from scipy import stats\n",
    "from scipy.optimize import minimize\n",
    "from scipy.optimize import NonlinearConstraint, LinearConstraint\n",
    "from scipy.optimize import milp"
   ]
  },
  {
   "cell_type": "markdown",
   "id": "4446b025-b662-41c1-b797-47643efd5d5f",
   "metadata": {},
   "source": [
    "## Load & View Data\n",
    "\n",
    "The datset we will be using is presented in [Dzalbs & Kalganova 2020](https://www.sciencedirect.com/science/article/pii/S0360835220303442?via%3Dihub), and can be downloaded from [figshare](https://brunel.figshare.com/articles/dataset/Supply_Chain_Logistics_Problem_Dataset/7558679). It is in the form of an excel file with 7 total tables. \n"
   ]
  },
  {
   "cell_type": "code",
   "execution_count": 2,
   "id": "6d69962f-bf91-450b-8e6c-21c3695b454b",
   "metadata": {},
   "outputs": [
    {
     "data": {
      "text/plain": [
       "['OrderList',\n",
       " 'FreightRates',\n",
       " 'WhCosts',\n",
       " 'WhCapacities',\n",
       " 'ProductsPerPlant',\n",
       " 'VmiCustomers',\n",
       " 'PlantPorts']"
      ]
     },
     "execution_count": 2,
     "metadata": {},
     "output_type": "execute_result"
    }
   ],
   "source": [
    "# Load data and print sheetnames\n",
    "supply_chain = pd.ExcelFile('data/Supply_chain_logistics_problem.xlsx')\n",
    "supply_chain.sheet_names"
   ]
  },
  {
   "cell_type": "markdown",
   "id": "89134fa8-ce32-4a10-88f9-bc811fbc3738",
   "metadata": {},
   "source": [
    "The Dzalbs & Kalganova 2020 paper takes on a much more complicated supply chain problem implementing an Ant Colony Optimization scheme. For our much more simplified study we will not need all the data tables provided. The only tables we will use here are:\n",
    "\n",
    "- OrderList\n",
    "\n",
    "- FreightRates,\n",
    "\n",
    "- WhCosts\n",
    "\n",
    "- WhCapacities\n",
    " \n",
    "These tables list actual orders, as well as the freight rates and costs and capacities of the warehouses.\n",
    "The others (ProductsPerPlant, VmiCustomers, PlantPorts) contain information that constrains available combinations of products, customers, carriers and ports. These constraints are beyond the scope of what we'll be doing here. Next we can take a look at some details of the tables."
   ]
  },
  {
   "cell_type": "code",
   "execution_count": 3,
   "id": "599ca022-cab6-416a-8677-af6809715f49",
   "metadata": {},
   "outputs": [
    {
     "name": "stdout",
     "output_type": "stream",
     "text": [
      "OrderList\n",
      "<class 'pandas.core.frame.DataFrame'>\n",
      "RangeIndex: 9215 entries, 0 to 9214\n",
      "Data columns (total 14 columns):\n",
      " #   Column                Non-Null Count  Dtype         \n",
      "---  ------                --------------  -----         \n",
      " 0   Order ID              9215 non-null   float64       \n",
      " 1   Order Date            9215 non-null   datetime64[ns]\n",
      " 2   Origin Port           9215 non-null   object        \n",
      " 3   Carrier               9215 non-null   object        \n",
      " 4   TPT                   9215 non-null   int64         \n",
      " 5   Service Level         9215 non-null   object        \n",
      " 6   Ship ahead day count  9215 non-null   int64         \n",
      " 7   Ship Late Day count   9215 non-null   int64         \n",
      " 8   Customer              9215 non-null   object        \n",
      " 9   Product ID            9215 non-null   int64         \n",
      " 10  Plant Code            9215 non-null   object        \n",
      " 11  Destination Port      9215 non-null   object        \n",
      " 12  Unit quantity         9215 non-null   int64         \n",
      " 13  Weight                9215 non-null   float64       \n",
      "dtypes: datetime64[ns](1), float64(2), int64(5), object(6)\n",
      "memory usage: 1008.0+ KB\n",
      "None\n",
      "Duplicates: 0\n",
      "\n",
      "\n",
      "\n",
      "FreightRates\n",
      "<class 'pandas.core.frame.DataFrame'>\n",
      "RangeIndex: 1540 entries, 0 to 1539\n",
      "Data columns (total 11 columns):\n",
      " #   Column        Non-Null Count  Dtype  \n",
      "---  ------        --------------  -----  \n",
      " 0   Carrier       1540 non-null   object \n",
      " 1   orig_port_cd  1540 non-null   object \n",
      " 2   dest_port_cd  1540 non-null   object \n",
      " 3   minm_wgh_qty  1540 non-null   float64\n",
      " 4   max_wgh_qty   1540 non-null   float64\n",
      " 5   svc_cd        1540 non-null   object \n",
      " 6   minimum cost  1540 non-null   float64\n",
      " 7   rate          1540 non-null   float64\n",
      " 8   mode_dsc      1540 non-null   object \n",
      " 9   tpt_day_cnt   1540 non-null   int64  \n",
      " 10  Carrier type  1540 non-null   object \n",
      "dtypes: float64(4), int64(1), object(6)\n",
      "memory usage: 132.5+ KB\n",
      "None\n",
      "Duplicates: 3\n",
      "\n",
      "\n",
      "\n",
      "WhCosts\n",
      "<class 'pandas.core.frame.DataFrame'>\n",
      "RangeIndex: 19 entries, 0 to 18\n",
      "Data columns (total 2 columns):\n",
      " #   Column     Non-Null Count  Dtype  \n",
      "---  ------     --------------  -----  \n",
      " 0   WH         19 non-null     object \n",
      " 1   Cost/unit  19 non-null     float64\n",
      "dtypes: float64(1), object(1)\n",
      "memory usage: 432.0+ bytes\n",
      "None\n",
      "Duplicates: 0\n",
      "\n",
      "\n",
      "\n",
      "WhCapacities\n",
      "<class 'pandas.core.frame.DataFrame'>\n",
      "RangeIndex: 19 entries, 0 to 18\n",
      "Data columns (total 2 columns):\n",
      " #   Column           Non-Null Count  Dtype \n",
      "---  ------           --------------  ----- \n",
      " 0   Plant ID         19 non-null     object\n",
      " 1   Daily Capacity   19 non-null     int64 \n",
      "dtypes: int64(1), object(1)\n",
      "memory usage: 432.0+ bytes\n",
      "None\n",
      "Duplicates: 0\n",
      "\n",
      "\n",
      "\n"
     ]
    }
   ],
   "source": [
    "sheets = ['OrderList',\n",
    " 'FreightRates',\n",
    " 'WhCosts',\n",
    " 'WhCapacities']\n",
    "\n",
    "dfs = {}\n",
    "\n",
    "# Load sheets into dictionary of dataframes\n",
    "# view dataframe info\n",
    "for sheet in sheets:\n",
    "    dfs[sheet] = pd.read_excel(supply_chain, sheet_name=sheet)\n",
    "    print(sheet)\n",
    "    print(dfs[sheet].info())\n",
    "    print('Duplicates: {}'.format(dfs[sheet].duplicated().sum()))\n",
    "    print('\\n\\n')\n"
   ]
  },
  {
   "cell_type": "code",
   "execution_count": 4,
   "id": "a25a3305-fad0-48b0-b8c2-5db05234e046",
   "metadata": {},
   "outputs": [
    {
     "data": {
      "text/plain": [
       "dict_keys(['OrderList', 'FreightRates', 'WhCosts', 'WhCapacities'])"
      ]
     },
     "execution_count": 4,
     "metadata": {},
     "output_type": "execute_result"
    }
   ],
   "source": [
    "dfs.keys()"
   ]
  },
  {
   "cell_type": "markdown",
   "id": "d2a363b6-8dbf-497c-ba24-2f28652c769e",
   "metadata": {},
   "source": [
    "## Data info - Connections and nulls\n",
    "The relevant table connections are:\n",
    "\n",
    "WH from WhCosts <--> Plant Code from OrderList <--> PlantID from WHCapacities\n",
    "\n",
    "and\n",
    "\n",
    "Carrier from OrderList <--> Carrier FreightRates\n",
    "\n",
    "\n",
    "This is a fairly manageable dataset, so in order to make the caluclations a little more straightforward we will merge the relevant tables"
   ]
  },
  {
   "cell_type": "code",
   "execution_count": 5,
   "id": "35d386c4-c527-4957-b0b1-586d7f55700b",
   "metadata": {},
   "outputs": [
    {
     "data": {
      "text/html": [
       "<div>\n",
       "<style scoped>\n",
       "    .dataframe tbody tr th:only-of-type {\n",
       "        vertical-align: middle;\n",
       "    }\n",
       "\n",
       "    .dataframe tbody tr th {\n",
       "        vertical-align: top;\n",
       "    }\n",
       "\n",
       "    .dataframe thead th {\n",
       "        text-align: right;\n",
       "    }\n",
       "</style>\n",
       "<table border=\"1\" class=\"dataframe\">\n",
       "  <thead>\n",
       "    <tr style=\"text-align: right;\">\n",
       "      <th></th>\n",
       "      <th>Order ID</th>\n",
       "      <th>Order Date</th>\n",
       "      <th>Origin Port</th>\n",
       "      <th>Carrier</th>\n",
       "      <th>TPT</th>\n",
       "      <th>Service Level</th>\n",
       "      <th>Ship ahead day count</th>\n",
       "      <th>Ship Late Day count</th>\n",
       "      <th>Customer</th>\n",
       "      <th>Product ID</th>\n",
       "      <th>...</th>\n",
       "      <th>orig_port_cd</th>\n",
       "      <th>dest_port_cd</th>\n",
       "      <th>minm_wgh_qty</th>\n",
       "      <th>max_wgh_qty</th>\n",
       "      <th>svc_cd</th>\n",
       "      <th>minimum cost</th>\n",
       "      <th>rate</th>\n",
       "      <th>mode_dsc</th>\n",
       "      <th>tpt_day_cnt</th>\n",
       "      <th>Carrier type</th>\n",
       "    </tr>\n",
       "  </thead>\n",
       "  <tbody>\n",
       "    <tr>\n",
       "      <th>0</th>\n",
       "      <td>1.447296e+09</td>\n",
       "      <td>2013-05-26</td>\n",
       "      <td>PORT09</td>\n",
       "      <td>V44_3</td>\n",
       "      <td>1</td>\n",
       "      <td>CRF</td>\n",
       "      <td>3</td>\n",
       "      <td>0</td>\n",
       "      <td>V55555_53</td>\n",
       "      <td>1700106</td>\n",
       "      <td>...</td>\n",
       "      <td>NaN</td>\n",
       "      <td>NaN</td>\n",
       "      <td>NaN</td>\n",
       "      <td>NaN</td>\n",
       "      <td>NaN</td>\n",
       "      <td>NaN</td>\n",
       "      <td>NaN</td>\n",
       "      <td>NaN</td>\n",
       "      <td>NaN</td>\n",
       "      <td>NaN</td>\n",
       "    </tr>\n",
       "    <tr>\n",
       "      <th>1</th>\n",
       "      <td>1.447158e+09</td>\n",
       "      <td>2013-05-26</td>\n",
       "      <td>PORT09</td>\n",
       "      <td>V44_3</td>\n",
       "      <td>1</td>\n",
       "      <td>CRF</td>\n",
       "      <td>3</td>\n",
       "      <td>0</td>\n",
       "      <td>V55555_53</td>\n",
       "      <td>1700106</td>\n",
       "      <td>...</td>\n",
       "      <td>NaN</td>\n",
       "      <td>NaN</td>\n",
       "      <td>NaN</td>\n",
       "      <td>NaN</td>\n",
       "      <td>NaN</td>\n",
       "      <td>NaN</td>\n",
       "      <td>NaN</td>\n",
       "      <td>NaN</td>\n",
       "      <td>NaN</td>\n",
       "      <td>NaN</td>\n",
       "    </tr>\n",
       "    <tr>\n",
       "      <th>2</th>\n",
       "      <td>1.447139e+09</td>\n",
       "      <td>2013-05-26</td>\n",
       "      <td>PORT09</td>\n",
       "      <td>V44_3</td>\n",
       "      <td>1</td>\n",
       "      <td>CRF</td>\n",
       "      <td>3</td>\n",
       "      <td>0</td>\n",
       "      <td>V55555_53</td>\n",
       "      <td>1700106</td>\n",
       "      <td>...</td>\n",
       "      <td>NaN</td>\n",
       "      <td>NaN</td>\n",
       "      <td>NaN</td>\n",
       "      <td>NaN</td>\n",
       "      <td>NaN</td>\n",
       "      <td>NaN</td>\n",
       "      <td>NaN</td>\n",
       "      <td>NaN</td>\n",
       "      <td>NaN</td>\n",
       "      <td>NaN</td>\n",
       "    </tr>\n",
       "    <tr>\n",
       "      <th>3</th>\n",
       "      <td>1.447364e+09</td>\n",
       "      <td>2013-05-26</td>\n",
       "      <td>PORT09</td>\n",
       "      <td>V44_3</td>\n",
       "      <td>1</td>\n",
       "      <td>CRF</td>\n",
       "      <td>3</td>\n",
       "      <td>0</td>\n",
       "      <td>V55555_53</td>\n",
       "      <td>1700106</td>\n",
       "      <td>...</td>\n",
       "      <td>NaN</td>\n",
       "      <td>NaN</td>\n",
       "      <td>NaN</td>\n",
       "      <td>NaN</td>\n",
       "      <td>NaN</td>\n",
       "      <td>NaN</td>\n",
       "      <td>NaN</td>\n",
       "      <td>NaN</td>\n",
       "      <td>NaN</td>\n",
       "      <td>NaN</td>\n",
       "    </tr>\n",
       "    <tr>\n",
       "      <th>4</th>\n",
       "      <td>1.447364e+09</td>\n",
       "      <td>2013-05-26</td>\n",
       "      <td>PORT09</td>\n",
       "      <td>V44_3</td>\n",
       "      <td>1</td>\n",
       "      <td>CRF</td>\n",
       "      <td>3</td>\n",
       "      <td>0</td>\n",
       "      <td>V55555_53</td>\n",
       "      <td>1700106</td>\n",
       "      <td>...</td>\n",
       "      <td>NaN</td>\n",
       "      <td>NaN</td>\n",
       "      <td>NaN</td>\n",
       "      <td>NaN</td>\n",
       "      <td>NaN</td>\n",
       "      <td>NaN</td>\n",
       "      <td>NaN</td>\n",
       "      <td>NaN</td>\n",
       "      <td>NaN</td>\n",
       "      <td>NaN</td>\n",
       "    </tr>\n",
       "  </tbody>\n",
       "</table>\n",
       "<p>5 rows × 28 columns</p>\n",
       "</div>"
      ],
      "text/plain": [
       "       Order ID Order Date Origin Port Carrier  TPT Service Level  \\\n",
       "0  1.447296e+09 2013-05-26      PORT09   V44_3    1           CRF   \n",
       "1  1.447158e+09 2013-05-26      PORT09   V44_3    1           CRF   \n",
       "2  1.447139e+09 2013-05-26      PORT09   V44_3    1           CRF   \n",
       "3  1.447364e+09 2013-05-26      PORT09   V44_3    1           CRF   \n",
       "4  1.447364e+09 2013-05-26      PORT09   V44_3    1           CRF   \n",
       "\n",
       "   Ship ahead day count  Ship Late Day count   Customer  Product ID  ...  \\\n",
       "0                     3                    0  V55555_53     1700106  ...   \n",
       "1                     3                    0  V55555_53     1700106  ...   \n",
       "2                     3                    0  V55555_53     1700106  ...   \n",
       "3                     3                    0  V55555_53     1700106  ...   \n",
       "4                     3                    0  V55555_53     1700106  ...   \n",
       "\n",
       "  orig_port_cd dest_port_cd  minm_wgh_qty  max_wgh_qty svc_cd  minimum cost  \\\n",
       "0          NaN          NaN           NaN          NaN    NaN           NaN   \n",
       "1          NaN          NaN           NaN          NaN    NaN           NaN   \n",
       "2          NaN          NaN           NaN          NaN    NaN           NaN   \n",
       "3          NaN          NaN           NaN          NaN    NaN           NaN   \n",
       "4          NaN          NaN           NaN          NaN    NaN           NaN   \n",
       "\n",
       "  rate  mode_dsc tpt_day_cnt Carrier type  \n",
       "0  NaN       NaN         NaN          NaN  \n",
       "1  NaN       NaN         NaN          NaN  \n",
       "2  NaN       NaN         NaN          NaN  \n",
       "3  NaN       NaN         NaN          NaN  \n",
       "4  NaN       NaN         NaN          NaN  \n",
       "\n",
       "[5 rows x 28 columns]"
      ]
     },
     "execution_count": 5,
     "metadata": {},
     "output_type": "execute_result"
    }
   ],
   "source": [
    "data = dfs['OrderList']\n",
    "\n",
    "data = data.merge(dfs['WhCosts'], left_on='Plant Code', right_on = 'WH')\n",
    "data = data.merge(dfs['WhCapacities'], left_on='WH', right_on = 'Plant ID')\n",
    "\n",
    "# Use a left join here\n",
    "data = data.merge(dfs['FreightRates'], how='left', left_on=['Carrier', 'Service Level', 'Origin Port', 'Destination Port'], right_on = ['Carrier', 'svc_cd', 'orig_port_cd','dest_port_cd'])\n",
    "data.head()"
   ]
  },
  {
   "cell_type": "markdown",
   "id": "cf54ed86-27de-4260-89d7-1b832b429874",
   "metadata": {},
   "source": [
    "Service level of CRF indicates \"Customer referred freight\" which does not have transportation costs."
   ]
  },
  {
   "cell_type": "code",
   "execution_count": 6,
   "id": "81e72b49-e551-4c59-be97-bad8153f4b3f",
   "metadata": {},
   "outputs": [
    {
     "name": "stdout",
     "output_type": "stream",
     "text": [
      "Transportation needed for 8361 orders, 854 CRF orders\n"
     ]
    }
   ],
   "source": [
    "num_nonCRF = data[data['Service Level']!='CRF']['Order ID'].nunique()\n",
    "num_CRF = data[data['Service Level']=='CRF']['Order ID'].nunique()\n",
    "\n",
    "print('Transportation needed for {} orders, {} CRF orders'.format(num_nonCRF, num_CRF))"
   ]
  },
  {
   "cell_type": "code",
   "execution_count": 7,
   "id": "54913044-7af7-4b61-b387-27630961d40b",
   "metadata": {},
   "outputs": [],
   "source": [
    "#For now remove CRF\n",
    "CRF_df = data[data['Service Level']=='CRF']\n"
   ]
  },
  {
   "cell_type": "code",
   "execution_count": 8,
   "id": "b84347f5-1988-4942-ace4-b9cc4619c39c",
   "metadata": {},
   "outputs": [],
   "source": [
    "wght_cond = (data['Weight']>=data['minm_wgh_qty']) & (data['Weight']<data['max_wgh_qty'])\n",
    "data_check = data[wght_cond].reset_index(drop=True)\n"
   ]
  },
  {
   "cell_type": "code",
   "execution_count": 9,
   "id": "c42c168f-a47f-472f-aec1-303a57d039a6",
   "metadata": {},
   "outputs": [
    {
     "name": "stdout",
     "output_type": "stream",
     "text": [
      "duplicates:  3\n"
     ]
    }
   ],
   "source": [
    "# Above we saw that FreightRates has some duplicates\n",
    "# We will simply drop these\n",
    "print('duplicates: ', dfs['FreightRates'].duplicated().sum())"
   ]
  },
  {
   "cell_type": "code",
   "execution_count": 10,
   "id": "83a03db8-c87a-4c4a-9d71-9bb57c9d31af",
   "metadata": {},
   "outputs": [],
   "source": [
    "dfs['FreightRates'] = dfs['FreightRates'].drop_duplicates()"
   ]
  },
  {
   "cell_type": "code",
   "execution_count": 11,
   "id": "0bc1c095-f67e-492f-912b-5a0cf2042736",
   "metadata": {},
   "outputs": [
    {
     "data": {
      "text/plain": [
       "104"
      ]
     },
     "execution_count": 11,
     "metadata": {},
     "output_type": "execute_result"
    }
   ],
   "source": [
    "''' Note aso that there are several Transit options that only differ by their minimum cost and rate\n",
    " This is a bit troublesome to deal with. Later on we will simply take the average values for these \n",
    " Freight Rate entries. Below we show the number of duplciates when excluding only 'minimum cost', 'rate' '''\n",
    "\n",
    "dfs['FreightRates'][['Carrier', 'orig_port_cd', 'dest_port_cd', 'minm_wgh_qty',\n",
    "       'max_wgh_qty', 'svc_cd', 'mode_dsc',\n",
    "       'tpt_day_cnt', 'Carrier type']].duplicated().sum()\n"
   ]
  },
  {
   "cell_type": "code",
   "execution_count": 12,
   "id": "f597ebfe-1e24-4e4f-a4a7-80d8b169962d",
   "metadata": {},
   "outputs": [],
   "source": [
    "wght_cond = (data['Weight']>=data['minm_wgh_qty']) & (data['Weight']<=data['max_wgh_qty'])\n",
    "#service_cond = (data['Service Level'] == data['svc_cd'])\n",
    "#port_cond = (data['Origin Port'] == data['orig_port_cd']) & (data['Destination Port'] == data['dest_port_cd'])\n",
    "\n",
    "data_wght_constraint = data[ wght_cond]"
   ]
  },
  {
   "cell_type": "code",
   "execution_count": 13,
   "id": "1a8e84fa-f659-44de-86ea-273eb7f06a24",
   "metadata": {},
   "outputs": [
    {
     "name": "stdout",
     "output_type": "stream",
     "text": [
      "Total orders 9215 \n",
      "Orders with valid transport 6991 \n",
      "Orders without valid transport info 2224 (incl. 854 CRF)\n"
     ]
    }
   ],
   "source": [
    "all_orders, cleaned_orders = data['Order ID'].unique(), data_wght_constraint['Order ID'].unique()\n",
    "\n",
    "\n",
    "missing = list(set(all_orders).difference(set(cleaned_orders)))\n",
    "print('Total orders {} \\nOrders with valid transport {} \\n\\\n",
    "Orders without valid transport info {} (incl. {} CRF)'.format(len(all_orders), len(cleaned_orders), len(missing), num_CRF))\n"
   ]
  },
  {
   "cell_type": "markdown",
   "id": "e5968be0-ef6b-4685-bcf3-b582ca04fe05",
   "metadata": {},
   "source": [
    "1370 orders are not compatible with any Freight options given the constraints. We could choose to only calulate the warhouse costs for these, but for now we will simply exclude them from our calulation. An additional 854 are CRF and thus do not contribute to the Transport costs."
   ]
  },
  {
   "cell_type": "code",
   "execution_count": 14,
   "id": "5a8b77ea-0f1a-4243-81cf-555f0cfc5e8c",
   "metadata": {},
   "outputs": [],
   "source": [
    "cols = data.columns.to_list()\n",
    "\n",
    "gp_cols = data.columns.to_list()\n",
    "for x in ['tpt_day_cnt','minimum cost', 'rate']:\n",
    "    gp_cols.remove(x)"
   ]
  },
  {
   "cell_type": "code",
   "execution_count": 15,
   "id": "d6598d5e-80a9-4ed6-b188-444441d13f45",
   "metadata": {},
   "outputs": [],
   "source": [
    "grouped_df = data_wght_constraint[cols].groupby(gp_cols, as_index=False).mean()"
   ]
  },
  {
   "cell_type": "markdown",
   "id": "b88c13dc-c3dc-4fa2-9bd9-8aa78ce5ad57",
   "metadata": {},
   "source": [
    "grouped_df now includes all the sources that have valid transport information.\n",
    "\n",
    "Need to include the V443 orders"
   ]
  },
  {
   "cell_type": "code",
   "execution_count": 16,
   "id": "c43962f7-b38f-4190-b821-17eb953c591b",
   "metadata": {},
   "outputs": [],
   "source": [
    "data = pd.concat([grouped_df, CRF_df])\n",
    "data.reset_index(inplace=True, drop=True)"
   ]
  },
  {
   "cell_type": "markdown",
   "id": "797e34f1-70ad-4df1-beac-a07adf1afa1a",
   "metadata": {},
   "source": [
    "### Define warehouse and transport costs \n",
    "\n",
    "The definitions of the cost functions are taken from the [Dzalbs & Kalganova 2020](https://www.sciencedirect.com/science/article/pii/S0360835220303442?via%3Dihub) paper."
   ]
  },
  {
   "cell_type": "code",
   "execution_count": 17,
   "id": "c621fa40-45c5-4284-9507-85776db6ba96",
   "metadata": {},
   "outputs": [],
   "source": [
    "def wh_cost(data):\n",
    "    ''' Warehouse cost is the sum of the units quantity per order multipllied by \n",
    "        warehouse cost/unit\n",
    "    '''\n",
    "    cost  = (data['Unit quantity']*data['Cost/unit']).sum()\n",
    "    return cost\n",
    "\n",
    "\n",
    "\n",
    "# \"The freight rate is determined based on total weight\n",
    "#   on any given line pjcstm and the corresponding \n",
    "#    weight band in the freight rate table.\"\n",
    "def tpt_cost(data):\n",
    "    \n",
    "    TCa = np.maximum(data['rate']*data['Weight'], data['minimum cost'])\n",
    "    TCg = data['rate']*data['Weight'] \n",
    "    TC = np.where(data['mode_dsc']=='GROUND', TCg, TCa)\n",
    "    TC_final = (np.where(data['Service Level']=='CRF', 0, TC) ).sum()\n",
    "    \n",
    "    return TC_final"
   ]
  },
  {
   "cell_type": "markdown",
   "id": "485a94f8-d249-4049-a563-1c5f29529bcf",
   "metadata": {},
   "source": [
    "### Calulate Cost\n",
    "Once we have our data configured and our cost function defined we can calulate the cost for the Order Data from May 26 2013."
   ]
  },
  {
   "cell_type": "code",
   "execution_count": 18,
   "id": "2e0cc8ea-587c-4202-9a68-4246f45ed737",
   "metadata": {},
   "outputs": [
    {
     "name": "stdout",
     "output_type": "stream",
     "text": [
      "Warehouse cost is $14.9 million\n",
      "Transportation cost is $0.1 million\n",
      "Total cost is $15.0 million\n"
     ]
    }
   ],
   "source": [
    "\n",
    "print('Warehouse cost is ${:.1f} million'.format(wh_cost(data)/1e6))\n",
    "print('Transportation cost is ${:.1f} million'.format(tpt_cost(data)/1e6))\n",
    "print('Total cost is ${:.1f} million'.format((tpt_cost(data) + wh_cost(data))/1e6))"
   ]
  },
  {
   "cell_type": "markdown",
   "id": "1fd774fd-da7b-4ec3-907b-71b8c84cca39",
   "metadata": {},
   "source": [
    "As we can see here, warehousing costs are the most dominant component of the total, accounting for >99% of the cost.\n",
    "Thus, our optimaztion process will mainly be impacted by optimizing the warehouse costs."
   ]
  },
  {
   "cell_type": "markdown",
   "id": "cb7ac9c5-9c93-41a7-9595-cf2f82379e77",
   "metadata": {},
   "source": [
    "## The Optimization Problem\n",
    "Now lets work on an Optimaization problem using some fake order data. We use the fake data first in order to once again simplify the problem. Specifically, we will only focus on minimziing warehouse costs, and we will assume all orders have the same unit quantity, which directly affects the warehouse costs.\n",
    "\n",
    "Thus, the problem is to determine the optimal number of orders to assign to each warehouse. We must take into consideration the Warehouse cost/unit and the daily capacities of orders that can be handled. "
   ]
  },
  {
   "cell_type": "code",
   "execution_count": 19,
   "id": "7935acb2-fde6-45a7-9e2f-f6f63c482eb4",
   "metadata": {},
   "outputs": [
    {
     "name": "stdout",
     "output_type": "stream",
     "text": [
      "Max orders in a day 5791\n"
     ]
    }
   ],
   "source": [
    "# could merge instaed to unify WH info\n",
    "\n",
    "dfs['WhCosts'] = dfs['WhCosts'].sort_values('WH').reset_index(drop=True)\n",
    "wcosts = dfs['WhCosts']['Cost/unit']\n",
    "\n",
    "dfs['WhCapacities'] = dfs['WhCapacities'].sort_values('Plant ID').reset_index(drop=True)\n",
    "wcap = dfs['WhCapacities']['Daily Capacity ']\n",
    "\n",
    "whs = dfs['WhCosts']['WH']\n",
    "\n",
    "print('Max orders in a day {}'.format(wcap.sum()))"
   ]
  },
  {
   "cell_type": "markdown",
   "id": "54d5c833-8368-44d3-ad46-5653ab010527",
   "metadata": {},
   "source": [
    "The total number of orders we can process in a day is contrained by the total capacty of each warehouse."
   ]
  },
  {
   "cell_type": "code",
   "execution_count": 20,
   "id": "522c85df-b262-471a-b5ba-4b745a9be94c",
   "metadata": {},
   "outputs": [
    {
     "data": {
      "text/html": [
       "<div>\n",
       "<style scoped>\n",
       "    .dataframe tbody tr th:only-of-type {\n",
       "        vertical-align: middle;\n",
       "    }\n",
       "\n",
       "    .dataframe tbody tr th {\n",
       "        vertical-align: top;\n",
       "    }\n",
       "\n",
       "    .dataframe thead th {\n",
       "        text-align: right;\n",
       "    }\n",
       "</style>\n",
       "<table border=\"1\" class=\"dataframe\">\n",
       "  <thead>\n",
       "    <tr style=\"text-align: right;\">\n",
       "      <th></th>\n",
       "      <th>Origin Port</th>\n",
       "      <th>Service Level</th>\n",
       "      <th>Destination Port</th>\n",
       "      <th>Unit quantity</th>\n",
       "      <th>Weight</th>\n",
       "      <th>Order ID</th>\n",
       "    </tr>\n",
       "  </thead>\n",
       "  <tbody>\n",
       "    <tr>\n",
       "      <th>0</th>\n",
       "      <td>PORT04</td>\n",
       "      <td>CRF</td>\n",
       "      <td>PORT09</td>\n",
       "      <td>251</td>\n",
       "      <td>1.941615</td>\n",
       "      <td>2562</td>\n",
       "    </tr>\n",
       "    <tr>\n",
       "      <th>1</th>\n",
       "      <td>PORT04</td>\n",
       "      <td>CRF</td>\n",
       "      <td>PORT09</td>\n",
       "      <td>251</td>\n",
       "      <td>1.941615</td>\n",
       "      <td>344</td>\n",
       "    </tr>\n",
       "    <tr>\n",
       "      <th>2</th>\n",
       "      <td>PORT04</td>\n",
       "      <td>CRF</td>\n",
       "      <td>PORT09</td>\n",
       "      <td>251</td>\n",
       "      <td>1.941615</td>\n",
       "      <td>2911</td>\n",
       "    </tr>\n",
       "    <tr>\n",
       "      <th>3</th>\n",
       "      <td>PORT04</td>\n",
       "      <td>CRF</td>\n",
       "      <td>PORT09</td>\n",
       "      <td>251</td>\n",
       "      <td>1.941615</td>\n",
       "      <td>3752</td>\n",
       "    </tr>\n",
       "    <tr>\n",
       "      <th>4</th>\n",
       "      <td>PORT04</td>\n",
       "      <td>CRF</td>\n",
       "      <td>PORT09</td>\n",
       "      <td>251</td>\n",
       "      <td>1.941615</td>\n",
       "      <td>3828</td>\n",
       "    </tr>\n",
       "  </tbody>\n",
       "</table>\n",
       "</div>"
      ],
      "text/plain": [
       "  Origin Port Service Level Destination Port Unit quantity    Weight  Order ID\n",
       "0      PORT04           CRF           PORT09           251  1.941615      2562\n",
       "1      PORT04           CRF           PORT09           251  1.941615       344\n",
       "2      PORT04           CRF           PORT09           251  1.941615      2911\n",
       "3      PORT04           CRF           PORT09           251  1.941615      3752\n",
       "4      PORT04           CRF           PORT09           251  1.941615      3828"
      ]
     },
     "execution_count": 20,
     "metadata": {},
     "output_type": "execute_result"
    }
   ],
   "source": [
    "# We choose some value of orders we want to consider\n",
    "num_orders = 4000\n",
    "\n",
    "new_order_cols = ['Origin Port','Service Level','Destination Port','Unit quantity','Weight']\n",
    "new_orders = pd.DataFrame(np.repeat( dfs['OrderList'][new_order_cols].sample(1,random_state=1).values, num_orders, axis=0))\n",
    "new_orders.columns = new_order_cols\n",
    "#We wont really use this, but if lets generate unique Order IDs\n",
    "new_orders['Order ID'] = np.random.choice(np.arange(num_orders), size=num_orders, replace=False)\n",
    "\n",
    "new_orders.head()"
   ]
  },
  {
   "cell_type": "code",
   "execution_count": 21,
   "id": "03f0b7da-557f-4843-9c51-39c9cf751c85",
   "metadata": {},
   "outputs": [],
   "source": [
    "\n",
    "# grab the unit quantity for each of our orders\n",
    "uq = new_orders['Unit quantity'].mode().iloc[0]\n"
   ]
  },
  {
   "cell_type": "code",
   "execution_count": 22,
   "id": "b02dcedf-e2e3-4226-8bc6-3678bd55ba85",
   "metadata": {
    "tags": []
   },
   "outputs": [],
   "source": [
    "def random_assign(total, constraints):\n",
    "    ''' Randomly assign a number (total) elements\n",
    "        to len(constraints) open slots, obeying max numebr of \n",
    "        objects per slot as defnined by constraints\n",
    "    '''\n",
    "    rng = np.random.default_rng()\n",
    "    samples = rng.multinomial(total, constraints / constraints.sum(), size=1000)\n",
    "    try:\n",
    "        return next(val for val in samples if np.all(val < constraints))\n",
    "    except:\n",
    "        return constraints"
   ]
  },
  {
   "cell_type": "code",
   "execution_count": 23,
   "id": "0be05eeb-06b1-47a8-883f-4721b84adaa9",
   "metadata": {
    "tags": []
   },
   "outputs": [
    {
     "name": "stdout",
     "output_type": "stream",
     "text": [
      "get\n",
      "[781  99 679 382 270  34 173  12   5  81 238 146 344 385   8 295   7  58\n",
      "   3]\n",
      "Initial cost $658k\n",
      "Optimized cost $508k\n",
      "Cost reduction 22.8%\n"
     ]
    }
   ],
   "source": [
    "\n",
    "# Define our objective funtion (i.e. the warehouse storage costs)\n",
    "def obj(x):\n",
    "    ''' Input array containing the number \n",
    "        of orders for each warehouse. \n",
    "        \n",
    "        Cost is calculated as the\n",
    "        (warehouse cost/unit) X (unit quantity) X (number of orders)\n",
    "        \n",
    "        Output is cost in $1k    \n",
    "    '''\n",
    "    return (wcosts*uq*x).sum()/1e3\n",
    "\n",
    "\n",
    "bounds = [(0,np.inf)]*len(wcosts) # disallow negative values\n",
    "\n",
    "\n",
    "\n",
    "b_l = np.zeros(len(wcosts))\n",
    "b_u = np.full_like(b_l, np.inf)\n",
    "A = np.ones((len(b_l), len(wcosts)))\n",
    "\n",
    "\n",
    "cons1 = LinearConstraint(A, b_l, b_u)\n",
    "cons2 = NonlinearConstraint( lambda x: x.sum()-num_orders, 0,0) # Must account for all orders\n",
    "cons3 = NonlinearConstraint( lambda x: min(wcap - x ), 0, np.inf) # Do not exceed warehouse capacity\n",
    "\n",
    "cons = []\n",
    "cons += [cons1]\n",
    "cons += [cons2]\n",
    "cons += [cons3]\n",
    "\n",
    "# get random assignment of warehouses\n",
    "print('get')\n",
    "ra = random_assign(num_orders, wcap)\n",
    "print(ra)\n",
    "res = minimize(obj,x0 = ra,  bounds=bounds, constraints = cons, method='SLSQP')\n",
    "\n",
    "print('Initial cost ${:.0f}k'.format(obj(ra)))\n",
    "print('Optimized cost ${:.0f}k'.format(obj(res.x)))\n",
    "print('Cost reduction {:.1f}%'.format((1-obj(res.x)/obj(ra))*100))"
   ]
  },
  {
   "cell_type": "markdown",
   "id": "1681c00a-08ee-4dbb-a5e7-9aab5256b821",
   "metadata": {},
   "source": [
    "## Plot warehouse assignments"
   ]
  },
  {
   "cell_type": "code",
   "execution_count": 24,
   "id": "d3ebf1ef-0255-4153-a292-8b35147f368b",
   "metadata": {},
   "outputs": [
    {
     "data": {
      "text/plain": [
       "(0.0, 1200.0)"
      ]
     },
     "execution_count": 24,
     "metadata": {},
     "output_type": "execute_result"
    },
    {
     "data": {
      "image/png": "[encoded data removed]",
      "text/plain": [
       "<Figure size 900x450 with 1 Axes>"
      ]
     },
     "metadata": {
      "needs_background": "light"
     },
     "output_type": "display_data"
    }
   ],
   "source": [
    "plt.figure(figsize=(6,3), dpi=150)\n",
    "xvals = np.arange(len(whs))\n",
    "plt.bar(x = xvals,height=ra, alpha=0.5, label='Random')\n",
    "plt.bar(x = xvals,height=res.x, alpha=0.5, label='Optimized')\n",
    "plt.bar(x = xvals,height=wcap, alpha=1, edgecolor='k',facecolor='none', label='Capacity')\n",
    "\n",
    "plt.xticks([x for x in range(19)])\n",
    "\n",
    "plt.legend()\n",
    "plt.xlabel('Plant ID')\n",
    "\n",
    "\n",
    "\n",
    "for i in xvals:\n",
    "    if i==0:\n",
    "        costlabel = 'cost/unit\\n{:.2f}'.format(wcosts[i])\n",
    "    else:\n",
    "        costlabel = '{:.2f}'.format(wcosts[i])\n",
    "    plt.text(i, wcap[i]+20, costlabel, fontsize=5, ha='center')\n",
    "\n",
    "plt.ylim(ymax=1200)"
   ]
  },
  {
   "cell_type": "markdown",
   "id": "477babb3-cee0-4ea9-ae91-514586af7098",
   "metadata": {},
   "source": [
    "## Repeat process to get cost reduction distribution"
   ]
  },
  {
   "cell_type": "code",
   "execution_count": 25,
   "id": "233c7406-984a-47eb-93a3-3aac45cb403d",
   "metadata": {
    "tags": []
   },
   "outputs": [
    {
     "name": "stdout",
     "output_type": "stream",
     "text": [
      "10/100\n",
      "20/100\n",
      "30/100\n",
      "40/100\n",
      "50/100\n",
      "60/100\n",
      "70/100\n",
      "80/100\n",
      "90/100\n",
      "100/100\n",
      "CPU times: user 7min 36s, sys: 69.3 ms, total: 7min 36s\n",
      "Wall time: 7min 40s\n"
     ]
    }
   ],
   "source": [
    "%%time\n",
    "\n",
    "iters = 100\n",
    "ra_costs = []\n",
    "opt_costs = []\n",
    "cost_reductions = []\n",
    "\n",
    "errors = 0\n",
    "unit_errors = []\n",
    "relaxed_err= []\n",
    "\n",
    "\n",
    "for i in range(iters):\n",
    "    if (i+1)%10==0:\n",
    "        print('{}/{}'.format(i+1, iters))\n",
    "\n",
    "        \n",
    "    # get random assignment of warehouses\n",
    "    ra = random_assign(num_orders, wcap)\n",
    "\n",
    "\n",
    "    res = minimize(obj, x0 = ra, bounds=bounds, constraints = cons, method='SLSQP', options={'maxiter':1000})\n",
    "    result = np.round(res.x)\n",
    "    if result.sum() != num_orders:\n",
    "        unit_errors.append(result.sum()-num_orders)\n",
    "        errors +=1\n",
    "        \n",
    "    relaxed_err.append(100*(1-obj(result)/obj(res.x)))\n",
    "    cost_reductions.append((1-obj(result)/obj(ra))*100)\n",
    "\n",
    "    ra_costs.append(obj(ra))\n",
    "    opt_costs.append(obj(result))\n",
    "    \n"
   ]
  },
  {
   "cell_type": "markdown",
   "id": "8a93f818-cf08-44d7-af6b-18515cfb00f6",
   "metadata": {},
   "source": [
    "### Check differences due to rounding"
   ]
  },
  {
   "cell_type": "code",
   "execution_count": 26,
   "id": "4e418774-f0ae-401f-8832-5277ec1a0872",
   "metadata": {},
   "outputs": [
    {
     "name": "stdout",
     "output_type": "stream",
     "text": [
      "Warning: 56 rounding errors totaling 69.0 orders\n"
     ]
    },
    {
     "data": {
      "text/plain": [
       "Text(0.5, 0, '% difference due to rounding')"
      ]
     },
     "execution_count": 26,
     "metadata": {},
     "output_type": "execute_result"
    },
    {
     "data": {
      "image/png": "[encoded data removed]",
      "text/plain": [
       "<Figure size 600x450 with 1 Axes>"
      ]
     },
     "metadata": {
      "needs_background": "light"
     },
     "output_type": "display_data"
    }
   ],
   "source": [
    "print('Warning: {} rounding errors totaling {} orders'.format(errors, np.sum(np.abs(unit_errors)) ))\n",
    "\n",
    "# Does not account for capacity violations!\n",
    "plt.figure(figsize=(4,3), dpi=150)\n",
    "plt.hist(relaxed_err, alpha=0.5, edgecolor='grey')\n",
    "plt.xlabel('% difference due to rounding')"
   ]
  },
  {
   "cell_type": "code",
   "execution_count": 27,
   "id": "f4e78f4f-8951-45ad-a9ca-d2de565431b2",
   "metadata": {},
   "outputs": [
    {
     "name": "stdout",
     "output_type": "stream",
     "text": [
      "mean cost reduction = 25.4%\n",
      "deviation = 0.6%\n"
     ]
    },
    {
     "data": {
      "image/png": "[encoded data removed]",
      "text/plain": [
       "<Figure size 1200x450 with 2 Axes>"
      ]
     },
     "metadata": {
      "needs_background": "light"
     },
     "output_type": "display_data"
    }
   ],
   "source": [
    "\n",
    "#Make as subplots\n",
    "fig, ax = plt.subplots(1,2,figsize=(8,3), dpi=150)\n",
    "ax[0].hist(ra_costs, alpha=0.5, edgecolor='grey', label = 'Random')\n",
    "ax[0].hist(opt_costs, alpha=0.5, edgecolor='grey' ,label = 'Optimized')\n",
    "ax[0].set_xlabel('cost [$1k]')\n",
    "\n",
    "ax[1].hist(cost_reductions, alpha=0.5, edgecolor='grey')\n",
    "ax[1].set_xlabel('% cost reduction')\n",
    "ax[1].set_xlim(0,100)\n",
    "\n",
    "print('mean cost reduction = {:.1f}%'.format(np.mean(cost_reductions)))\n",
    "print('deviation = {:.1f}%'.format(100*np.std(opt_costs)/np.mean(opt_costs)))"
   ]
  },
  {
   "cell_type": "markdown",
   "id": "3def41cf-db64-4285-9cdf-caae166ca6f7",
   "metadata": {},
   "source": [
    "## Summary of Results\n",
    "\n",
    "We find that using this optimization method we are able to reduce costs by ~25% relative to a random assignment of orders to warehouses. The optimal cost has a ~1% standard deviation, which is actually a bit higher than I expected. Ideally, the function should minimize to the same value regardless of starting conditions. This indicates that there is some issue with the mimizer not consistently finding the global minimum. Even just allowing for more iterations could potentially resolve this, though overall 1% is not bad for this exercise.\n",
    "\n",
    "While a 25% cost reduction is a great result, we must keep in mind that in the scipy implementation our orders assigned to warehouses are non-integer values. For this problem set up, we would actually want each order treated as an integer value, and thus the non integer (\"relaxed\" solution) will either be non optimal or violates constraints. We explored this a little bit above and saw that the effects of rounding to integer values did not change costs significantly (though we didnt check any violations of warehouse capacity constraints), but lets see if we can be more technically rigorous by implementing an integer programming method.\n",
    "\n",
    "In the next section, we will use the PuLP linear programming library to implement a similar method that uses mixed-integer linear programming."
   ]
  },
  {
   "cell_type": "markdown",
   "id": "3b4244e7-5dff-4700-aa04-3eff4575975d",
   "metadata": {},
   "source": [
    "# Supply Chain optimization with PuLP"
   ]
  },
  {
   "cell_type": "code",
   "execution_count": 28,
   "id": "098c7db3-1f16-4772-9ddf-52a55e356aaf",
   "metadata": {},
   "outputs": [],
   "source": [
    "#!pip install pulp --progress-bar off"
   ]
  },
  {
   "cell_type": "markdown",
   "id": "5cb66589-654a-4446-b12c-7cbe940c3765",
   "metadata": {},
   "source": [
    "The [PuLP](https://coin-or.github.io/pulp/) library is a linear programming python library. We use it here as it will allow us to perform a mixed-integer linear programming solution to our optimization problem with our constraints. \n",
    "\n",
    "Also note that with PuLP we do not need to supply an intial guess as we did in scipy"
   ]
  },
  {
   "cell_type": "code",
   "execution_count": 29,
   "id": "bac8c346-a29c-44cb-9d05-b38544a7fd38",
   "metadata": {},
   "outputs": [],
   "source": [
    "import pulp\n",
    "\n",
    "\n",
    "wcost_list = wcosts.to_list()\n",
    "wcap_list = wcap.to_list()\n",
    "\n",
    "num_vars = len(whs)\n",
    "\n",
    "#define problem  model\n",
    "model = pulp.LpProblem('model',pulp.LpMinimize)  \n",
    "\n",
    "# Define integer varaibles (i.e. number of orders per warehouse)\n",
    "orders = [pulp.LpVariable(\"x\"+str(i), lowBound = 0,  cat = 'Integer') for i in range(num_vars)]\n",
    "\n",
    "\n",
    "# Define Objective\n",
    "model += pulp.lpSum([wcost_list[i] * uq*orders[i]/1e3 for i in range(num_vars)]), \"Warehouse Cost\"\n",
    "\n",
    "\n",
    "# Define constraints\n",
    "model += pulp.lpSum([orders[i] for i in range(num_vars)]) == num_orders, \"Total Orders\"\n",
    "\n",
    "for i in range(num_vars):\n",
    "    model += orders[i] <= wcap_list[i], 'Plant {} Capacity'.format(i)\n",
    "\n"
   ]
  },
  {
   "cell_type": "code",
   "execution_count": 30,
   "id": "72b09d6c-3563-45a6-8acd-571d342d8a31",
   "metadata": {},
   "outputs": [
    {
     "name": "stdout",
     "output_type": "stream",
     "text": [
      "model:\n",
      "MINIMIZE\n",
      "0.14231102241732*x0 + 0.11985338325073283*x1 + 0.13936706990325226*x10 + 0.19405608037378935*x11 + 0.11789647120195978*x12 + 0.15921676416387132*x13 + 0.3551809075486018*x14 + 0.4818716844709608*x15 + 0.10766559335939214*x16 + 0.51109969371064*x17 + 0.1605803924741909*x18 + 0.12989297479799092*x2 + 0.10755432708220254*x3 + 0.12252424051637308*x4 + 0.1390761125040729*x5 + 0.09322740829378695*x6 + 0.1312371820982516*x7 + 0.1167328454431167*x8 + 0.12388905651921926*x9 + 0.0\n",
      "SUBJECT TO\n",
      "Total_Orders: x0 + x1 + x10 + x11 + x12 + x13 + x14 + x15 + x16 + x17 + x18\n",
      " + x2 + x3 + x4 + x5 + x6 + x7 + x8 + x9 = 4000\n",
      "\n",
      "Plant_0_Capacity: x0 <= 1070\n",
      "\n",
      "Plant_1_Capacity: x1 <= 138\n",
      "\n",
      "Plant_2_Capacity: x2 <= 1013\n",
      "\n",
      "Plant_3_Capacity: x3 <= 554\n",
      "\n",
      "Plant_4_Capacity: x4 <= 385\n",
      "\n",
      "Plant_5_Capacity: x5 <= 49\n",
      "\n",
      "Plant_6_Capacity: x6 <= 265\n",
      "\n",
      "Plant_7_Capacity: x7 <= 14\n",
      "\n",
      "Plant_8_Capacity: x8 <= 11\n",
      "\n",
      "Plant_9_Capacity: x9 <= 118\n",
      "\n",
      "Plant_10_Capacity: x10 <= 332\n",
      "\n",
      "Plant_11_Capacity: x11 <= 209\n",
      "\n",
      "Plant_12_Capacity: x12 <= 490\n",
      "\n",
      "Plant_13_Capacity: x13 <= 549\n",
      "\n",
      "Plant_14_Capacity: x14 <= 11\n",
      "\n",
      "Plant_15_Capacity: x15 <= 457\n",
      "\n",
      "Plant_16_Capacity: x16 <= 8\n",
      "\n",
      "Plant_17_Capacity: x17 <= 111\n",
      "\n",
      "Plant_18_Capacity: x18 <= 7\n",
      "\n",
      "VARIABLES\n",
      "0 <= x0 Integer\n",
      "0 <= x1 Integer\n",
      "0 <= x10 Integer\n",
      "0 <= x11 Integer\n",
      "0 <= x12 Integer\n",
      "0 <= x13 Integer\n",
      "0 <= x14 Integer\n",
      "0 <= x15 Integer\n",
      "0 <= x16 Integer\n",
      "0 <= x17 Integer\n",
      "0 <= x18 Integer\n",
      "0 <= x2 Integer\n",
      "0 <= x3 Integer\n",
      "0 <= x4 Integer\n",
      "0 <= x5 Integer\n",
      "0 <= x6 Integer\n",
      "0 <= x7 Integer\n",
      "0 <= x8 Integer\n",
      "0 <= x9 Integer\n",
      "\n"
     ]
    }
   ],
   "source": [
    "print(model)"
   ]
  },
  {
   "cell_type": "code",
   "execution_count": 31,
   "id": "9472dcb8-0b75-4791-88c9-01bb755779f8",
   "metadata": {},
   "outputs": [
    {
     "name": "stdout",
     "output_type": "stream",
     "text": [
      "Welcome to the CBC MILP Solver \n",
      "Version: 2.10.3 \n",
      "Build Date: Dec 15 2019 \n",
      "\n",
      "command line - /home/armcdan/.local/lib/python3.9/site-packages/pulp/solverdir/cbc/linux/64/cbc /local_scratch/pbs.1783878.pbs02/3c43a266460b498b8f5b26f55ba5cb04-pulp.mps timeMode elapsed branch printingOptions all solution /local_scratch/pbs.1783878.pbs02/3c43a266460b498b8f5b26f55ba5cb04-pulp.sol (default strategy 1)\n",
      "At line 2 NAME          MODEL\n",
      "At line 3 ROWS\n",
      "At line 25 COLUMNS\n",
      "At line 121 RHS\n",
      "At line 142 BOUNDS\n",
      "At line 162 ENDATA\n",
      "Problem MODEL has 20 rows, 19 columns and 38 elements\n",
      "Coin0008I MODEL read with 0 errors\n",
      "Option for timeMode changed from cpu to elapsed\n",
      "Continuous objective value is 497.699 - 0.00 seconds\n",
      "Cgl0004I processed model has 1 rows, 19 columns (19 integer (0 of which binary)) and 19 elements\n",
      "Cbc0012I Integer solution of 497.69879 found by greedy equality after 0 iterations and 0 nodes (0.00 seconds)\n",
      "Cbc0001I Search completed - best objective 497.6987932001232, took 0 iterations and 0 nodes (0.00 seconds)\n",
      "Cbc0035I Maximum depth 0, 0 variables fixed on reduced cost\n",
      "Cuts at root node changed objective from 497.699 to 497.699\n",
      "Probing was tried 0 times and created 0 cuts of which 0 were active after adding rounds of cuts (0.000 seconds)\n",
      "Gomory was tried 0 times and created 0 cuts of which 0 were active after adding rounds of cuts (0.000 seconds)\n",
      "Knapsack was tried 0 times and created 0 cuts of which 0 were active after adding rounds of cuts (0.000 seconds)\n",
      "Clique was tried 0 times and created 0 cuts of which 0 were active after adding rounds of cuts (0.000 seconds)\n",
      "MixedIntegerRounding2 was tried 0 times and created 0 cuts of which 0 were active after adding rounds of cuts (0.000 seconds)\n",
      "FlowCover was tried 0 times and created 0 cuts of which 0 were active after adding rounds of cuts (0.000 seconds)\n",
      "TwoMirCuts was tried 0 times and created 0 cuts of which 0 were active after adding rounds of cuts (0.000 seconds)\n",
      "ZeroHalf was tried 0 times and created 0 cuts of which 0 were active after adding rounds of cuts (0.000 seconds)\n",
      "\n",
      "Result - Optimal solution found\n",
      "\n",
      "Objective value:                497.69879320\n",
      "Enumerated nodes:               0\n",
      "Total iterations:               0\n",
      "Time (CPU seconds):             0.00\n",
      "Time (Wallclock seconds):       0.00\n",
      "\n",
      "Option for printingOptions changed from normal to all\n",
      "Total time (CPU seconds):       0.00   (Wallclock seconds):       0.00\n",
      "\n"
     ]
    },
    {
     "data": {
      "text/plain": [
       "1"
      ]
     },
     "execution_count": 31,
     "metadata": {},
     "output_type": "execute_result"
    }
   ],
   "source": [
    "# Run the solver\n",
    "model.solve()"
   ]
  },
  {
   "cell_type": "code",
   "execution_count": 32,
   "id": "4b7dd716-07ee-4969-bf79-c83a62ebb379",
   "metadata": {},
   "outputs": [],
   "source": [
    "res_dict = {}\n",
    "for x in  model.variables():\n",
    "    res_dict[x.name] = x.value()\n",
    "\n",
    "    \n",
    "pulp_res = []\n",
    "for i in range(num_vars):\n",
    "    pulp_res.append(res_dict['x'+str(i)])\n"
   ]
  },
  {
   "cell_type": "code",
   "execution_count": 33,
   "id": "730f7a77-7a51-4b27-b8c8-6992a1e8b390",
   "metadata": {},
   "outputs": [
    {
     "data": {
      "text/plain": [
       "(0.0, 1200.0)"
      ]
     },
     "execution_count": 33,
     "metadata": {},
     "output_type": "execute_result"
    },
    {
     "data": {
      "image/png": "[encoded data removed]",
      "text/plain": [
       "<Figure size 900x450 with 1 Axes>"
      ]
     },
     "metadata": {
      "needs_background": "light"
     },
     "output_type": "display_data"
    }
   ],
   "source": [
    "plt.figure(figsize=(6,3), dpi=150)\n",
    "xvals = np.arange(len(whs))\n",
    "plt.bar(x=xvals, height=pulp_res,alpha=0.5,  label='PuLP')\n",
    "#plt.bar(x = xvals,height=ra, alpha=0.5, label='Random')\n",
    "plt.bar(x = xvals,height=res.x, alpha=0.5, label='Scipy')\n",
    "plt.bar(x = xvals,height=wcap, alpha=1, edgecolor='k',facecolor='none', label='Capacity')\n",
    "\n",
    "plt.legend()\n",
    "plt.xlabel('Plant ID')\n",
    "plt.xticks(xvals)\n",
    "\n",
    "\n",
    "for i in xvals:\n",
    "    if i==0:\n",
    "        costlabel = 'cost/unit\\n{:.2f}'.format(wcosts[i])\n",
    "    else:\n",
    "        costlabel = '{:.2f}'.format(wcosts[i])\n",
    "    plt.text(i, wcap[i]+20, costlabel, fontsize=5, ha='center')\n",
    "\n",
    "plt.ylim(ymax=1200)"
   ]
  },
  {
   "cell_type": "code",
   "execution_count": 34,
   "id": "16eb2fa2-79ca-44cb-9076-63ba6f1d7ed2",
   "metadata": {},
   "outputs": [
    {
     "name": "stdout",
     "output_type": "stream",
     "text": [
      "Cost (SciPy): $498.1k (relax $498.0k)\n",
      "Cost (PuLP): $497.7k\n",
      "PuLP Cost reduction: 0.1% (relax 0.1%)\n"
     ]
    }
   ],
   "source": [
    "scipy_cost = obj(np.round(res.x))\n",
    "scipy_cost_rel = res.fun\n",
    "pulp_cost = pulp.value(model.objective)\n",
    "\n",
    "print('Cost (SciPy): ${:.1f}k (relax ${:.1f}k)'.format(scipy_cost, scipy_cost_rel))\n",
    "print('Cost (PuLP): ${:.1f}k'.format(pulp_cost))\n",
    "print('PuLP Cost reduction: {:.1f}% (relax {:.1f}%)'.format((1 - pulp_cost/scipy_cost)*100, (1 - pulp_cost/scipy_cost_rel)*100))"
   ]
  },
  {
   "cell_type": "markdown",
   "id": "cc252fad-697c-4b09-8284-8e59df6fc3d8",
   "metadata": {},
   "source": [
    "## Summary of Results with PuLP"
   ]
  },
  {
   "cell_type": "markdown",
   "id": "eed7a138-bc11-4bd3-998f-2146c719588c",
   "metadata": {},
   "source": [
    "Above we compare the results of the optimization using SciPy and PuLP. We see that the end results is pretty similar, with PuLP yielding a slightly lower cost. \n",
    "\n",
    "The figure above shows the minor differences in the warehouse assignments. Again they are very similar, with only slight deviations in two warehouses (Plant 0 and Plant 9).\n",
    "\n",
    "Though the difference is small, PuLP also has the benefits of not requiring intitial values, handling the the integer nature of the varaibles and it is much faster."
   ]
  },
  {
   "cell_type": "markdown",
   "id": "33881861-f593-4777-972b-e679d8e49d39",
   "metadata": {},
   "source": [
    "# Additional analysis"
   ]
  },
  {
   "cell_type": "markdown",
   "id": "9710b62a-fc5d-4410-ab99-69c06a678874",
   "metadata": {},
   "source": [
    "In this exercise we compared two implementation of solving a simple supply chain optimization problem, wherein we were tasked with assigning orders to different warehouses based on the warehouse cost and capacity.\n",
    "\n",
    "Our implementation were both straightforward linear programming minimzations. While this worked well in our very simplified problem, more complex tasks such as incorporating the different carriers and transportation methods would require alternative approaches. \n",
    "\n",
    "In a future project I plan to explore some of these more complex methods in order to perform an analysis that is more realistic and incorporates additonal levels of complexity. \n",
    "\n"
   ]
  },
  {
   "cell_type": "code",
   "execution_count": null,
   "id": "4835ce0e-efb7-4197-b25b-28a7b45a48f7",
   "metadata": {},
   "outputs": [],
   "source": []
  },
  {
   "cell_type": "code",
   "execution_count": null,
   "id": "6ec13dfc-38f8-4434-bbe3-113f7db171a1",
   "metadata": {},
   "outputs": [],
   "source": []
  },
  {
   "cell_type": "code",
   "execution_count": null,
   "id": "7a749602-4af3-4c22-bf88-89b250539b83",
   "metadata": {},
   "outputs": [],
   "source": []
  }
 ],
 "metadata": {
  "kernelspec": {
   "display_name": "Python 3 (ipykernel)",
   "language": "python",
   "name": "python3"
  },
  "language_info": {
   "codemirror_mode": {
    "name": "ipython",
    "version": 3
   },
   "file_extension": ".py",
   "mimetype": "text/x-python",
   "name": "python",
   "nbconvert_exporter": "python",
   "pygments_lexer": "ipython3",
   "version": "3.9.12"
  },
  "toc-autonumbering": false,
  "toc-showmarkdowntxt": false,
  "toc-showtags": false
 },
 "nbformat": 4,
 "nbformat_minor": 5
}
